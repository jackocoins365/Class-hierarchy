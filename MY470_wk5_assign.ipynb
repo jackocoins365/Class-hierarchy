{
 "cells": [
  {
   "cell_type": "markdown",
   "metadata": {
    "slideshow": {
     "slide_type": "slide"
    }
   },
   "source": [
    "##### MY470 Computer Programming\n",
    "\n",
    "### Week 5 Assignment, MT 2020\n",
    "\n",
    "#### \\*\\*\\* Due 12:00 noon on Monday, November 9 \\*\\*\\*"
   ]
  },
  {
   "cell_type": "markdown",
   "metadata": {
    "slideshow": {
     "slide_type": "slide"
    }
   },
   "source": [
    "---\n",
    "### Simulating contagion on a network\n",
    "\n",
    "In this assignment, you are asked to write a program that simulates the contagion of disease or information on an empirical network. In academic research, contagion models have been used to study the properties of different types of networks. In practice, contagion models are extremely valuable to predict the spread of contagious disease such as the flu or STDs.\n",
    "\n",
    "We will use the simplest of contagion models — the SI model. SI stands for susceptible and infected. The SI model assumes that once a susceptible individual is infected, there is no recovery. This is a good representation for the spread of non-curable but non-deadly infectious disease such as Herpes simplex or for the spread of new technologies and knowledge.\n",
    "\n",
    "In the SI model we will implement, we will start with a population where everyone is susceptible. Then we will randomly pick a small number of individuals (\"Patients 0\") and infect them. In the next period, all the contacts of the infected individuals will get infected (thus, we will assume that the probability of transmission is 1). And so on. We will repeat the process until everyone in the network is infected or until a certain number of periods have passed (the latter is necessary for networks that are not connected and have separate components; in such situations, it is possible that the contagion never reaches some individuals). \n",
    "\n",
    "We will run the model on a real network. For simplicity, we will reuse the co-authorship network we analyzed in Assignment 3. So think about the contagion in this case as learning about a new research technique, empirical finding, or theoretical result.\n",
    "\n",
    "#### Hints\n",
    "\n",
    "Use docstrings to describe your methods. We will subtract points from your mark if you do not use appropriate description of your code.\n"
   ]
  },
  {
   "cell_type": "markdown",
   "metadata": {},
   "source": [
    "### Problem 1: Working in a team\n",
    "\n",
    "Work with your assigned partner to complete and submit the assignment. You can meet in person to discuss the division of labor but we expect you to use GitHub to communicate when coding your part and merging your contributions. We will  review the Issues, Pull request, and Wiki stats for your repository. You will get the full points for this problem if we find sufficient evidence that you have made use of GitHub as a collaboration tool. \n",
    "\n",
    "#### Hints\n",
    "\n",
    "One reasonable way to divide the work is to assign Problems 2 and 3 to Student A and Problems 4 and 5 to Student B.\n"
   ]
  },
  {
   "cell_type": "markdown",
   "metadata": {},
   "source": [
    "### Problem 2: Class for network\n",
    "\n",
    "Create a class called `UndirectedNetwork`. The class should have the following data attributes:\n",
    "\n",
    "* `nodes` — a dictionary where the node id is a key and the value is a list with the ids of the node's neighbors (coauthors for our data); initially empty\n",
    "\n",
    "and the following methods:\n",
    "\n",
    "* `add_node` — takes node_id and initializes it as a key to `nodes` if it is not already there\n",
    "* `add_neighbors` — takes two arguments: ego_id and alter_id and adds alter_id to ego_id's list of neighbors and ego_id to alter_id's list of neighbors, if they are not already there\n",
    "* `get_node_ids` — returns the ids of the nodes in the network one at a time\n",
    "* `get_node_neighbors` — takes node_id and returns its neighbors one at a time\n",
    "\n",
    "Calling the `print()` function on a `UndirectedNetwork` object should print the number of nodes in the network, e.g. \"Undirected network with 455 nodes\".\n"
   ]
  },
  {
   "cell_type": "code",
   "execution_count": 1,
   "metadata": {
    "collapsed": true
   },
   "outputs": [],
   "source": [
    "# Enter your answer to Problem 2 below. \n",
    "hallo\n"
   ]
  },
  {
   "cell_type": "markdown",
   "metadata": {},
   "source": [
    "### Problem 3: Create an instance of the network class\n",
    "\n",
    "Read the data from the file \"ca-GrQc.txt\" and save it in an instance of the UndirectedNetwork class you created. Call print on the instance.\n",
    "\n",
    "#### Hints\n",
    "\n",
    "Feel free to reuse code from Assignment 3. If your code had mistakes, make sure you fix them when you copy the code here.\n"
   ]
  },
  {
   "cell_type": "code",
   "execution_count": 2,
   "metadata": {
    "collapsed": true,
    "scrolled": false
   },
   "outputs": [],
   "source": [
    "# Enter your answer to Problem 3 below. \n"
   ]
  },
  {
   "cell_type": "markdown",
   "metadata": {},
   "source": [
    "---\n",
    "### Problem 4: Class for SI model\n",
    "\n",
    "\n",
    "Create a class called `SIModel` that has the following data attributes:\n",
    "\n",
    "* `network` — an instance of class UndirectedNetwork taken at instantiation\n",
    "* `susceptible_nodes` — a list of ids for nodes that are not yet infected; initially includes all nodes from `network`\n",
    "* `infected_nodes` — a list of ids for nodes that are infected; initially empty\n",
    "* `num_infected` — keeps track of the number of infected nodes; initially `0`\n",
    "\n",
    "and the following methods:\n",
    "\n",
    "* `initialize` — randomly selects `n` number of nodes and infects them; then prints the number of infected nodes\n",
    "* `update` — iterates over the susceptible nodes in random order and infects those who have at least one infected neighbor; then prints the number of infected nodes. The process should be asynchronous, in the sense that a node immediately becomes infected and will then infect any susceptible neighbors who are yet to be iterated over.\n",
    "* `run` — repeats `update` until all nodes are infected or until `update` has been run 30 times\n",
    "\n",
    "Calling the `print()` function on a `SIModel` object should print `num_infected`.\n",
    "\n",
    "#### Hints\n",
    "\n",
    "In this problem you will need to use functions from the `random` module. You can read more about it [here](https://docs.python.org/3/library/random.html).\n",
    "\n",
    "Make sure the methods update all the relevant data attributes when called."
   ]
  },
  {
   "cell_type": "code",
   "execution_count": 3,
   "metadata": {
    "collapsed": true
   },
   "outputs": [],
   "source": [
    "# Enter your answer to Problem 4 below. \n",
    "\n"
   ]
  },
  {
   "cell_type": "markdown",
   "metadata": {},
   "source": [
    "---\n",
    "### Problem 5: Run the model\n",
    "\n",
    "Run SIModel using the network from Problem 2. You should initialize the simulation with 3 seeds.\n"
   ]
  },
  {
   "cell_type": "code",
   "execution_count": 4,
   "metadata": {
    "collapsed": true,
    "scrolled": false
   },
   "outputs": [],
   "source": [
    "# Enter your answer to Problem 5 below. \n",
    "\n"
   ]
  },
  {
   "cell_type": "markdown",
   "metadata": {},
   "source": [
    "---\n",
    "\n",
    "### Evaluation\n",
    "\n",
    "| Problem | Mark     | Comment   \n",
    "|:-------:|:--------:|:----------------------\n",
    "| 1       |   /1    |   \n",
    "| 2       |   /4    |      \n",
    "| 3       |   /1    | \n",
    "| 4       |   /5    | \n",
    "| 5       |   /1    |\n",
    "| Legibility   |   /2    | \n",
    "| Modularity   |   /2    | \n",
    "| Efficiency   |   /4    | \n",
    "|**Total**|**/20**  | \n"
   ]
  }
 ],
 "metadata": {
  "kernelspec": {
   "display_name": "Python 3",
   "language": "python",
   "name": "python3"
  },
  "language_info": {
   "codemirror_mode": {
    "name": "ipython",
    "version": 3
   },
   "file_extension": ".py",
   "mimetype": "text/x-python",
   "name": "python",
   "nbconvert_exporter": "python",
   "pygments_lexer": "ipython3",
   "version": "3.8.3"
  }
 },
 "nbformat": 4,
 "nbformat_minor": 2
}
